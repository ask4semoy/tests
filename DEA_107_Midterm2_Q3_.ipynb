{
  "nbformat": 4,
  "nbformat_minor": 0,
  "metadata": {
    "colab": {
      "provenance": [],
      "authorship_tag": "ABX9TyPAA+phAZYIVB5bNMQCufq8",
      "include_colab_link": true
    },
    "kernelspec": {
      "name": "python3",
      "display_name": "Python 3"
    },
    "language_info": {
      "name": "python"
    }
  },
  "cells": [
    {
      "cell_type": "markdown",
      "metadata": {
        "id": "view-in-github",
        "colab_type": "text"
      },
      "source": [
        "<a href=\"https://colab.research.google.com/github/ask4semoy/tests/blob/main/DEA_107_Midterm2_Q3_.ipynb\" target=\"_parent\"><img src=\"https://colab.research.google.com/assets/colab-badge.svg\" alt=\"Open In Colab\"/></a>"
      ]
    },
    {
      "cell_type": "code",
      "execution_count": 3,
      "metadata": {
        "colab": {
          "base_uri": "https://localhost:8080/"
        },
        "id": "elT49y7HYFv0",
        "outputId": "62d9072b-b917-4eb1-b776-db6a1589af5d"
      },
      "outputs": [
        {
          "output_type": "stream",
          "name": "stdout",
          "text": [
            "Chi-square statistic: 20.486674646254478\n",
            "Critical value: 9.487729036781154\n",
            "Reject the null hypothesis: The data does not follow a Poisson distribution.\n"
          ]
        },
        {
          "output_type": "stream",
          "name": "stderr",
          "text": [
            "<ipython-input-3-117ef7650e4b>:10: DeprecationWarning: `np.math` is a deprecated alias for the standard library `math` module (Deprecated Numpy 1.25). Replace usages of `np.math` with `math`\n",
            "  expected = np.array([((lambda_poisson**x) * np.exp(-lambda_poisson)) / np.math.factorial(x) for x in x_values]) * np.sum(observed)\n"
          ]
        }
      ],
      "source": [
        "import numpy as np\n",
        "import scipy.stats as stats\n",
        "\n",
        "observed = np.array([22, 10, 27, 22, 15, 4])\n",
        "x_values = np.array([0, 1, 2, 3, 4, 5])\n",
        "\n",
        "\n",
        "lambda_poisson = np.sum(x_values * observed) / np.sum(observed)\n",
        "\n",
        "expected = np.array([((lambda_poisson**x) * np.exp(-lambda_poisson)) / np.math.factorial(x) for x in x_values]) * np.sum(observed)\n",
        "\n",
        "chi_square_stat = np.sum((observed - expected)**2 / expected)\n",
        "\n",
        "df = len(observed) - 1 - 1\n",
        "alpha = 0.05\n",
        "critical_value = stats.chi2.ppf(1 - alpha, df)\n",
        "\n",
        "print(\"Chi-square statistic:\", chi_square_stat)\n",
        "print(\"Critical value:\", critical_value)\n",
        "\n",
        "if chi_square_stat > critical_value:\n",
        "    print(\"Reject the null hypothesis: The data does not follow a Poisson distribution.\")\n",
        "else:\n",
        "    print(\"Fail to reject the null hypothesis: The data follows a Poisson distribution.\")\n"
      ]
    }
  ]
}