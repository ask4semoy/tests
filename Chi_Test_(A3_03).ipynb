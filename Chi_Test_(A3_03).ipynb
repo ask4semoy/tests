{
  "nbformat": 4,
  "nbformat_minor": 0,
  "metadata": {
    "colab": {
      "provenance": [],
      "authorship_tag": "ABX9TyOapYnXINz2QmWh3gDXPLio",
      "include_colab_link": true
    },
    "kernelspec": {
      "name": "python3",
      "display_name": "Python 3"
    },
    "language_info": {
      "name": "python"
    }
  },
  "cells": [
    {
      "cell_type": "markdown",
      "metadata": {
        "id": "view-in-github",
        "colab_type": "text"
      },
      "source": [
        "<a href=\"https://colab.research.google.com/github/ask4semoy/tests/blob/main/Chi_Test_(A3_03).ipynb\" target=\"_parent\"><img src=\"https://colab.research.google.com/assets/colab-badge.svg\" alt=\"Open In Colab\"/></a>"
      ]
    },
    {
      "cell_type": "code",
      "source": [
        "import numpy as np\n",
        "from scipy.stats import norm, chisquare\n",
        "\n",
        "# Data\n",
        "data = np.array([12, 14, 5, 8, 3, 3, 15, 17, 12, 12, 6, 10, 9, 10, 6, 19, 11, 3, 9, 12, 7, 10, 11, 7, 17, 12, 15, 8, 8, 15, 17, 19, 14, 8, 16, 6, 16, 10, 12, 10, 14, 13, 9, 17, 15])\n",
        "\n",
        "# Significance level\n",
        "alpha = 0.05\n",
        "\n",
        "# mean and standard deviation\n",
        "mean = np.mean(data)\n",
        "std = np.std(data, ddof=1)  # ddof=1 for sample standard deviation\n",
        "\n",
        "# Bins (categories)\n",
        "# formula: k = 1 + 3.322 * log10(n)\n",
        "k = int(1 + 3.322 * np.log10(len(data)))\n",
        "\n",
        "# Create bins\n",
        "bins = np.linspace(min(data), max(data), k + 1)\n",
        "\n",
        "# Calculate observed frequencies\n",
        "observed_freq, _ = np.histogram(data, bins=bins)\n",
        "\n",
        "# Calculate expected frequencies\n",
        "expected_freq = []\n",
        "for i in range(len(bins) - 1):\n",
        "    prob = norm.cdf(bins[i + 1], mean, std) - norm.cdf(bins[i], mean, std)\n",
        "    expected_freq.append(prob * len(data))\n",
        "expected_freq = np.array(expected_freq)\n",
        "\n",
        "# We Adjust expected frequencies to match observed frequencies to avoid ValueError\n",
        "total_observed = sum(observed_freq)\n",
        "total_expected = sum(expected_freq)\n",
        "expected_freq = expected_freq * (total_observed / total_expected)\n",
        "\n",
        "# Perform Chi-Square test\n",
        "chi2_stat, p_value = chisquare(observed_freq, expected_freq)\n",
        "\n",
        "# Print results\n",
        "print(f\"Chi-Square Statistic: {chi2_stat}\")\n",
        "print(f\"P-value: {p_value}\")\n",
        "\n",
        "# Interpret results\n",
        "if p_value < alpha:\n",
        "    print(\"Reject the null hypothesis.\")\n",
        "else:\n",
        "    print(\"Fail to reject the null hypothesis.\")"
      ],
      "metadata": {
        "colab": {
          "base_uri": "https://localhost:8080/"
        },
        "id": "mUJHJSqUTvpF",
        "outputId": "614592dc-8e76-4e84-9278-1b7ad9c390f8"
      },
      "execution_count": 6,
      "outputs": [
        {
          "output_type": "stream",
          "name": "stdout",
          "text": [
            "Chi-Square Statistic: 3.08272508819781\n",
            "P-value: 0.6872336457982384\n",
            "Fail to reject the null hypothesis.\n"
          ]
        }
      ]
    }
  ]
}