{
  "nbformat": 4,
  "nbformat_minor": 0,
  "metadata": {
    "colab": {
      "provenance": [],
      "authorship_tag": "ABX9TyPzONoBG/AAajBM6gJPRh9L",
      "include_colab_link": true
    },
    "kernelspec": {
      "name": "python3",
      "display_name": "Python 3"
    },
    "language_info": {
      "name": "python"
    }
  },
  "cells": [
    {
      "cell_type": "markdown",
      "metadata": {
        "id": "view-in-github",
        "colab_type": "text"
      },
      "source": [
        "<a href=\"https://colab.research.google.com/github/ask4semoy/tests/blob/main/Class13_Spam_Classification.ipynb\" target=\"_parent\"><img src=\"https://colab.research.google.com/assets/colab-badge.svg\" alt=\"Open In Colab\"/></a>"
      ]
    },
    {
      "cell_type": "code",
      "execution_count": 8,
      "metadata": {
        "colab": {
          "base_uri": "https://localhost:8080/"
        },
        "id": "UTnqPD8jwDYd",
        "outputId": "b27ffe14-6199-4fda-c606-39bd5cc0e7fc"
      },
      "outputs": [
        {
          "output_type": "stream",
          "name": "stdout",
          "text": [
            "'You have a new message from your bank. Please verify your account details immediately.' is predicted as: Ham\n",
            "'I just wanted to follow up on our earlier conversation.' is predicted as: Ham\n",
            "'Free money! Click now!' is predicted as: Spam\n",
            "'Meeting rescheduled for tomorrow.' is predicted as: Ham\n"
          ]
        }
      ],
      "source": [
        "# Import necessary libraries\n",
        "from sklearn.feature_extraction.text import TfidfVectorizer\n",
        "from sklearn.naive_bayes import MultinomialNB\n",
        "\n",
        "# Training data (sentences and labels)\n",
        "sentences = [\n",
        "    \"Get a free iPhone now!\",\n",
        "    \"Win a cash prize of $1000!\",\n",
        "    \"Urgent! You've won a lottery.\",\n",
        "    \"Click here for exclusive deals.\",\n",
        "    \"Hello, how are you doing today?\",\n",
        "    \"Let's meet for coffee tomorrow.\",\n",
        "    \"I'll send you the report later.\",\n",
        "    \"Can we schedule a meeting?\",\n",
        "    \"Your order has been shipped.\",\n",
        "    \"Limited time offer: buy one get one free!\",\n",
        "    \"Please confirm your appointment.\",\n",
        "    \"Congratulations! You're a winner!\",\n",
        "]\n",
        "\n",
        "labels = [1, 1, 1, 1, 0, 0, 0, 0, 0, 1, 0, 1]  # 1 for spam, 0 for ham\n",
        "\n",
        "# Feature extraction (TF-IDF)\n",
        "vectorizer = TfidfVectorizer()\n",
        "X = vectorizer.fit_transform(sentences)\n",
        "\n",
        "# Train the Naive Bayes classifier\n",
        "classifier = MultinomialNB()\n",
        "classifier.fit(X, labels)\n",
        "\n",
        "# Prediction function\n",
        "def predict_spam_ham(text):\n",
        "    text_vectorized = vectorizer.transform([text])\n",
        "    prediction = classifier.predict(text_vectorized)\n",
        "    if prediction[0] == 1:\n",
        "        return \"Spam\"\n",
        "    else:\n",
        "        return \"Ham\"\n",
        "\n",
        "# Example predictions\n",
        "new_text1 = \"You have a new message from your bank. Please verify your account details immediately.\"\n",
        "new_text2 = \"I just wanted to follow up on our earlier conversation.\"\n",
        "new_text3 = \"Free money! Click now!\"\n",
        "new_text4 = \"Meeting rescheduled for tomorrow.\"\n",
        "\n",
        "print(f\"'{new_text1}' is predicted as: {predict_spam_ham(new_text1)}\")\n",
        "print(f\"'{new_text2}' is predicted as: {predict_spam_ham(new_text2)}\")\n",
        "print(f\"'{new_text3}' is predicted as: {predict_spam_ham(new_text3)}\")\n",
        "print(f\"'{new_text4}' is predicted as: {predict_spam_ham(new_text4)}\")"
      ]
    }
  ]
}